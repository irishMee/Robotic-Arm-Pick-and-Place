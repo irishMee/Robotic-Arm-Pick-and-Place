{
 "cells": [
  {
   "cell_type": "markdown",
   "metadata": {},
   "source": [
    "# Forward Kinematics Analysis"
   ]
  },
  {
   "cell_type": "code",
   "execution_count": 6,
   "metadata": {
    "collapsed": true
   },
   "outputs": [],
   "source": [
    "import numpy as np\n",
    "from numpy import array\n",
    "from sympy import symbols, cos, sin, pi, simplify, sqrt, atan2\n",
    "from sympy.matrices import Matrix"
   ]
  },
  {
   "cell_type": "code",
   "execution_count": 7,
   "metadata": {
    "collapsed": true
   },
   "outputs": [],
   "source": [
    "#Create symbols for joint variables\n",
    "q1, q2, q3, q4, q5, q6, q7 = symbols('q1:8')\n",
    "d1, d2, d3, d4, d5, d6, d7 = symbols('d1:8')\n",
    "a0, a1, a2, a3, a4, a5, a6 = symbols('a0:7')\n",
    "alpha0, alpha1, alpha2, alpha3, alpha4, alpha5, alpha6 = symbols('alpha0:7')"
   ]
  },
  {
   "cell_type": "code",
   "execution_count": 8,
   "metadata": {
    "collapsed": true
   },
   "outputs": [],
   "source": [
    "###DH Parameter Table\n",
    "#I need to set up the DH parameter table from the Kuka arm after setting \n",
    "#reference frames. \n",
    "#The values for a's and d's were found from the urdf xacro file.\n",
    "\n",
    "s = {alpha0:     0, a0:      0, d1:  0.75,\n",
    "     alpha1: -pi/2, a1:   0.35, d2:     0,   q2: q2-pi/2,\n",
    "     alpha2:     0, a2:   1.25, d3:     0,\n",
    "     alpha3: -pi/2, a3: -0.054, d4:  1.50,\n",
    "     alpha4:  pi/2, a4:      0, d5:     0,\n",
    "     alpha5: -pi/2, a5:      0, d6:     0,\n",
    "     alpha6:     0, a6:      0, d7: 0.303,   q7: 0\n",
    "    }"
   ]
  },
  {
   "cell_type": "code",
   "execution_count": 9,
   "metadata": {
    "collapsed": true
   },
   "outputs": [],
   "source": [
    "### Homogeneous Transforms\n",
    "#These are found from base_link to link_7 which is the gripper\n",
    "\n",
    "T0_1 = Matrix([[            cos(q1),            -sin(q1),            0,              a0],\n",
    "               [sin(q1)*cos(alpha0), cos(q1)*cos(alpha0), -sin(alpha0), -sin(alpha0)*d1],\n",
    "               [sin(q1)*sin(alpha0), cos(q1)*sin(alpha0),  cos(alpha0),  cos(alpha0)*d1],\n",
    "               [                  0,                   0,            0,               1]])\n",
    "T0_1 = T0_1.subs(s)\n",
    "\n",
    "T1_2 = Matrix([[            cos(q2),            -sin(q2),            0,              a1],\n",
    "               [sin(q2)*cos(alpha1), cos(q2)*cos(alpha1), -sin(alpha1), -sin(alpha1)*d2],\n",
    "               [sin(q2)*sin(alpha1), cos(q2)*sin(alpha1),  cos(alpha1),  cos(alpha1)*d2],\n",
    "               [                  0,                   0,            0,               1]])\n",
    "T1_2 = T1_2.subs(s)\n",
    "\n",
    "T2_3 = Matrix([[            cos(q3),            -sin(q3),            0,              a2],\n",
    "               [sin(q3)*cos(alpha2), cos(q3)*cos(alpha2), -sin(alpha2), -sin(alpha2)*d3],\n",
    "               [sin(q3)*sin(alpha2), cos(q3)*sin(alpha2),  cos(alpha2),  cos(alpha2)*d3],\n",
    "               [                  0,                   0,            0,               1]])\n",
    "T2_3 = T2_3.subs(s)\n",
    "\n",
    "T3_4 = Matrix([[            cos(q4),            -sin(q4),            0,              a3],\n",
    "               [sin(q4)*cos(alpha3), cos(q4)*cos(alpha3), -sin(alpha3), -sin(alpha3)*d4],\n",
    "               [sin(q4)*sin(alpha3), cos(q4)*sin(alpha3),  cos(alpha3),  cos(alpha3)*d4],\n",
    "               [                  0,                   0,            0,               1]])\n",
    "T3_4 = T3_4.subs(s)\n",
    "\n",
    "T4_5 = Matrix([[            cos(q5),            -sin(q5),            0,              a4],\n",
    "               [sin(q5)*cos(alpha4), cos(q5)*cos(alpha4), -sin(alpha4), -sin(alpha4)*d5],\n",
    "               [sin(q5)*sin(alpha4), cos(q5)*sin(alpha4),  cos(alpha4),  cos(alpha4)*d5],\n",
    "               [                  0,                   0,            0,              1]])\n",
    "T4_5 = T4_5.subs(s)\n",
    "\n",
    "T5_6 = Matrix([[            cos(q6),            -sin(q6),            0,              a5],\n",
    "               [sin(q6)*cos(alpha5), cos(q6)*cos(alpha5), -sin(alpha5), -sin(alpha5)*d6],\n",
    "               [sin(q6)*sin(alpha5), cos(q6)*sin(alpha5),  cos(alpha5),  cos(alpha5)*d6],\n",
    "               [                  0,                   0,            0,              1]])\n",
    "T5_6 = T5_6.subs(s)\n",
    "\n",
    "T6_G = Matrix([[            cos(q7),            -sin(q7),            0,              a6],\n",
    "               [sin(q7)*cos(alpha6), cos(q7)*cos(alpha6), -sin(alpha6), -sin(alpha6)*d7],\n",
    "               [sin(q7)*sin(alpha6), cos(q7)*sin(alpha6),  cos(alpha6),  cos(alpha6)*d7],\n",
    "               [                  0,                   0,            0,              1]])\n",
    "T6_G = T6_G.subs(s)\n"
   ]
  },
  {
   "cell_type": "code",
   "execution_count": 10,
   "metadata": {},
   "outputs": [
    {
     "name": "stdout",
     "output_type": "stream",
     "text": [
      "Homogeneous Transform from base_link to gripper_link is \n",
      "\n",
      "((sin(q1)*sin(q4) + sin(q2 + q3)*cos(q1)*cos(q4))*cos(q5) + sin(q5)*cos(q1)*cos(q2 + q3))*cos(q6) + (sin(q1)*cos(q4) - sin(q4)*sin(q2 + q3)*cos(q1))*sin(q6)\n",
      "\n",
      "-((sin(q1)*sin(q4) + sin(q2 + q3)*cos(q1)*cos(q4))*cos(q5) + sin(q5)*cos(q1)*cos(q2 + q3))*sin(q6) + (sin(q1)*cos(q4) - sin(q4)*sin(q2 + q3)*cos(q1))*cos(q6)\n",
      "\n",
      "-(sin(q1)*sin(q4) + sin(q2 + q3)*cos(q1)*cos(q4))*sin(q5) + cos(q1)*cos(q5)*cos(q2 + q3)\n",
      "\n",
      "-0.303*(sin(q1)*sin(q4) + sin(q2 + q3)*cos(q1)*cos(q4))*sin(q5) + (1.25*sin(q2) - 0.054*sin(q2 + q3) + 1.5*cos(q2 + q3) + 0.35)*cos(q1) + 0.303*cos(q1)*cos(q5)*cos(q2 + q3)\n",
      "\n",
      "((sin(q1)*sin(q2 + q3)*cos(q4) - sin(q4)*cos(q1))*cos(q5) + sin(q1)*sin(q5)*cos(q2 + q3))*cos(q6) - (sin(q1)*sin(q4)*sin(q2 + q3) + cos(q1)*cos(q4))*sin(q6)\n",
      "\n",
      "-((sin(q1)*sin(q2 + q3)*cos(q4) - sin(q4)*cos(q1))*cos(q5) + sin(q1)*sin(q5)*cos(q2 + q3))*sin(q6) - (sin(q1)*sin(q4)*sin(q2 + q3) + cos(q1)*cos(q4))*cos(q6)\n",
      "\n",
      "-(sin(q1)*sin(q2 + q3)*cos(q4) - sin(q4)*cos(q1))*sin(q5) + sin(q1)*cos(q5)*cos(q2 + q3)\n",
      "\n",
      "-0.303*(sin(q1)*sin(q2 + q3)*cos(q4) - sin(q4)*cos(q1))*sin(q5) + (1.25*sin(q2) - 0.054*sin(q2 + q3) + 1.5*cos(q2 + q3) + 0.35)*sin(q1) + 0.303*sin(q1)*cos(q5)*cos(q2 + q3)\n",
      "\n",
      "-(sin(q5)*sin(q2 + q3) - cos(q4)*cos(q5)*cos(q2 + q3))*cos(q6) - sin(q4)*sin(q6)*cos(q2 + q3)\n",
      "\n",
      "(sin(q5)*sin(q2 + q3) - cos(q4)*cos(q5)*cos(q2 + q3))*sin(q6) - sin(q4)*cos(q6)*cos(q2 + q3)\n",
      "\n",
      "-sin(q5)*cos(q4)*cos(q2 + q3) - sin(q2 + q3)*cos(q5)\n",
      "\n",
      "-0.303*sin(q5)*cos(q4)*cos(q2 + q3) - 0.303*sin(q2 + q3)*cos(q5) - 1.5*sin(q2 + q3) + 1.25*cos(q2) - 0.054*cos(q2 + q3) + 0.75\n",
      "\n",
      "0\n",
      "\n",
      "0\n",
      "\n",
      "0\n",
      "\n",
      "1\n",
      "\n"
     ]
    }
   ],
   "source": [
    "#Composition of Homogeneous Transforms from base to gripper\n",
    "T0_2 = simplify(T0_1 * T1_2) # base_link to link_2\n",
    "T0_3 = simplify(T0_2 * T2_3) # base_link to link_3\n",
    "T0_4 = simplify(T0_3 * T3_4) # base_link to link_4\n",
    "T0_5 = simplify(T0_4 * T4_5) # base_link to link_5\n",
    "T0_6 = simplify(T0_5 * T5_6) # base_link to link_6\n",
    "T0_G = simplify(T0_6 * T6_G) # base_link to link_G(which is the gripper)\n",
    "\n",
    "print('Homogeneous Transform from base_link to gripper_link is \\n')\n",
    "for i in T0_G:\n",
    "    print(i)\n",
    "    print('')\n"
   ]
  },
  {
   "cell_type": "code",
   "execution_count": 11,
   "metadata": {
    "collapsed": true
   },
   "outputs": [],
   "source": [
    "#There is a correction needed due to the difference in the definition of the Gripper\n",
    "#link in URDF versus DH Convention. We start with building a rotation about the \n",
    "#z axis and the y axis\n",
    "R_z = Matrix([[cos(np.pi), -sin(np.pi), 0, 0],\n",
    "              [sin(np.pi),  cos(np.pi), 0, 0],\n",
    "              [         0,           0, 1, 0],\n",
    "              [         0,           0, 0, 1]])\n",
    "R_y = Matrix([[ cos(-np.pi/2), 0, sin(-np.pi/2), 0],\n",
    "              [             0, 1,             0, 0],\n",
    "              [-sin(-np.pi/2), 0, cos(-np.pi/2), 0],\n",
    "              [             0, 0,             0, 1]])\n",
    "R_corr = simplify(R_z * R_y)\n"
   ]
  },
  {
   "cell_type": "code",
   "execution_count": 12,
   "metadata": {
    "collapsed": true
   },
   "outputs": [],
   "source": [
    "### Numerically evaluate transforms in order to compare to the tf_echo\n",
    "## and check my equations\n",
    "#print(\"T0_1 = \",T0_1.evalf(subs={q1: 0.17, q2: 0.03, q3: 0.22, q4: -5.28, q5: -1.97, q6: 5.39}))\n",
    "#print(\"T0_2 = \",T0_2.evalf(subs={q1: 0.17, q2: 0.03, q3: 0.22, q4: -5.28, q5: -1.97, q6: 5.39}))\n",
    "#print(\"T0_3 = \",T0_3.evalf(subs={q1: 0.17, q2: 0.03, q3: 0.22, q4: -5.28, q5: -1.97, q6: 5.39}))\n",
    "#print(\"T0_4 = \",T0_4.evalf(subs={q1: 0.17, q2: 0.03, q3: 0.22, q4: -5.28, q5: -1.97, q6: 5.39}))\n",
    "#print(\"T0_5 = \",T0_5.evalf(subs={q1: 0.17, q2: 0.03, q3: 0.22, q4: -5.28, q5: -1.97, q6: 5.39}))\n",
    "#print(\"T0_6 = \",T0_6.evalf(subs={q1: 0.17, q2: 0.03, q3: 0.22, q4: -5.28, q5: -1.97, q6: 5.39}))\n",
    "#print(\"T0_G = \",T0_G.evalf(subs={q1: 0.17, q2: 0.03, q3: 0.22, q4: -5.28, q5: -1.97, q6: 5.39}))\n",
    "\n",
    "#Total Homogeneous Transform between the Base_link and the Gripper_link with\n",
    "#the orientation correction applied\n",
    "T_total = simplify(T0_G * R_corr)\n",
    "#print(\"T_total = \",T_total.evalf(subs={q1: 0.17, q2: 0.03, q3: 0.22, q4: -5.28, q5: -1.97, q6: 5.39}))\n",
    "\n"
   ]
  },
  {
   "cell_type": "markdown",
   "metadata": {
    "collapsed": true
   },
   "source": [
    "## Inverse Kinematics Analysis"
   ]
  },
  {
   "cell_type": "code",
   "execution_count": 35,
   "metadata": {},
   "outputs": [
    {
     "name": "stdout",
     "output_type": "stream",
     "text": [
      "w_x =  0.895897318313310\n",
      "w_y =  -1.95157132383425\n",
      "w_z =  1.54283130070845\n",
      "-1.14042989329561\n",
      "-0.179492148192444\n",
      "1.00845253664840\n"
     ]
    }
   ],
   "source": [
    "## We first need to solve for the cartesian coordinates of the Wrist Center\n",
    "#We will use the following formula's\n",
    "# w_x = p_x -(d6 + l) * n_x, w_y = p_y -(d6 + l) * n_y, w_y = p_y -(d6 + l) * n_y\n",
    "#n_x, n_y, and n_z is the third column in the homogeneous tranform from base_link to gripper_link\n",
    "# The total rotation matrix is shown below\n",
    "#roll, pitch, yaw are from the orientation message from the gripper\n",
    "R_T = Matrix([[cos(roll)*cos(pitch), cos(roll)*sin(pitch)*sin(yaw) - sin(roll)*cos(yaw), \n",
    "                cos(roll)*sin(pitch)*cos(yaw) + sin(roll)*sin(yaw)],\n",
    "              [sin(roll)*cos(pitch), sin(roll)*sin(pitch)*sin(yaw) + cos(roll)*cos(yaw), \n",
    "                 sin(roll)*sin(pitch)*cos(yaw) - cos(roll)*sin(yaw)],\n",
    "              [-sin(pitch), cos(pitch)*sin(yaw), cos(pitch)*cos(yaw)]])\n",
    "#Nx, Ny, and Nz is the third column in the homogeneous tranform from base_link to gripper_link or\n",
    "#the third column from the total composite rotation matrix\n",
    "Nx = R_T[0,2]\n",
    "Ny = R_T[1,2]\n",
    "Nz = R_T[2,2]\n",
    "\n",
    "#px, py, and pz is given from the end effector pose\n",
    "\n",
    "#d6 is from the DH parameter table\n",
    "d6 = 0\n",
    "\n",
    "#l is the length of the end-effector which is the link offset d7 from the DH table\n",
    "l = 0.303\n",
    "\n",
    "#Now we can calculate the wrist center position\n",
    "WCx = px - (d6 + l)*Nx\n",
    "WCy = py - (d6 + l)*Ny\n",
    "WCz = pz - (d6 + l)*Nz\n",
    "\n",
    "#We can evaluate the wrist center position when given joint variables\n",
    "#print(\"w_x = \",w_x.evalf(subs={q1: 1.83, q2: -0.73, q3: -2.42, q4: 3.75, q5: 1.86, q6: 2.43}))\n",
    "#print(\"w_y = \",w_y.evalf(subs={q1: 1.83, q2: -0.73, q3: -2.42, q4: 3.75, q5: 1.86, q6: 2.43}))\n",
    "#print(\"w_z = \",w_z.evalf(subs={q1: 1.83, q2: -0.73, q3: -2.42, q4: 3.75, q5: 1.86, q6: 2.43}))\n",
    "\n",
    "#We can set up the joint variables 1 to 3 equations\n",
    "#a is equal to a2 from the DH parameter table\n",
    "a = 1.25\n",
    "#b was found using trig\n",
    "b = sqrt(w_y**2 + a**2 - 2*(a*w_x) + w_x**2)\n",
    "#D was found using the law of cosines\n",
    "D = (w_x**2 + w_y**2 - a**2 - b**2)/(2*a*b)\n",
    "#Here are the formulas for the first three joint variables\n",
    "q_1 = atan2(w_y, w_x)\n",
    "q_2 = atan2(D, sqrt(1 - D**2))\n",
    "q_3 = atan2(b, a)\n"
   ]
  },
  {
   "cell_type": "code",
   "execution_count": 22,
   "metadata": {},
   "outputs": [
    {
     "name": "stdout",
     "output_type": "stream",
     "text": [
      "Matrix([[-sin(q4)*sin(q6) + cos(q4)*cos(q5)*cos(q6), -sin(q4)*cos(q6) - sin(q6)*cos(q4)*cos(q5), -sin(q5)*cos(q4)], [sin(q5)*cos(q6), -sin(q5)*sin(q6), cos(q5)], [-sin(q4)*cos(q5)*cos(q6) - sin(q6)*cos(q4), sin(q4)*sin(q6)*cos(q5) - cos(q4)*cos(q6), sin(q4)*sin(q5)]])\n",
      "sin(q4)*sin(q5)\n",
      "0\n",
      "0\n",
      "1\n"
     ]
    }
   ],
   "source": [
    "#This section was testing code before put into the inverse kinematics python file\n",
    "# The total rotation matrix is shown below\n",
    "roll, pitch, yaw = 0, 0, 0\n",
    "R_T = Matrix([[cos(roll)*cos(pitch), cos(roll)*sin(pitch)*sin(yaw) - sin(roll)*cos(yaw), \n",
    "                cos(roll)*sin(pitch)*cos(yaw) + sin(roll)*sin(yaw)],\n",
    "              [sin(roll)*cos(pitch), sin(roll)*sin(pitch)*sin(yaw) + cos(roll)*cos(yaw), \n",
    "                 sin(roll)*sin(pitch)*cos(yaw) - cos(roll)*sin(yaw)],\n",
    "              [-sin(pitch), cos(pitch)*sin(yaw), cos(pitch)*cos(yaw)]])\n",
    "Nx = R_T[0,2]\n",
    "Ny = R_T[1,2]\n",
    "Nz = R_T[2,2]\n",
    "q1 = 0.17\n",
    "q2 = 0.03\n",
    "q3 = 0.22\n",
    "T0_3 = T0_3.evalf(subs={q1: q1, q2: q2, q3: q3})\n",
    "R0_3 = T0_3[0:3,0:3]\n",
    "T3_5 = T3_4 * T4_5\n",
    "T3_6 = T3_5 * T5_6\n",
    "R3_6 = T3_6[0:3,0:3]\n",
    "print(R3_6)\n",
    "print(R3_6[2,2])\n",
    "print(Nx)\n",
    "print(Ny)\n",
    "print(Nz)\n"
   ]
  },
  {
   "cell_type": "code",
   "execution_count": null,
   "metadata": {
    "collapsed": true
   },
   "outputs": [],
   "source": []
  }
 ],
 "metadata": {
  "kernelspec": {
   "display_name": "Python 3",
   "language": "python",
   "name": "python3"
  },
  "language_info": {
   "codemirror_mode": {
    "name": "ipython",
    "version": 3
   },
   "file_extension": ".py",
   "mimetype": "text/x-python",
   "name": "python",
   "nbconvert_exporter": "python",
   "pygments_lexer": "ipython3",
   "version": "3.5.2"
  },
  "widgets": {
   "state": {},
   "version": "1.1.2"
  }
 },
 "nbformat": 4,
 "nbformat_minor": 2
}
